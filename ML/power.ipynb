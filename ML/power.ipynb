{
 "cells": [
  {
   "cell_type": "code",
   "execution_count": 2,
   "metadata": {},
   "outputs": [],
   "source": [
    "import numpy as np"
   ]
  },
  {
   "cell_type": "code",
   "execution_count": 11,
   "metadata": {},
   "outputs": [
    {
     "name": "stdout",
     "output_type": "stream",
     "text": [
      "iter 20.0 [1. 0. 1.]\n",
      "iter 40.0 [ 1. -1.  1.]\n",
      "iter -80.0 [-0.75  1.   -0.75]\n",
      "iter 70.0 [-0.71428571  1.         -0.71428571]\n",
      "iter 68.57142857142857 [-0.70833333  1.         -0.70833333]\n",
      "iter 68.33333333333333 [-0.70731707  1.         -0.70731707]\n",
      "iter 68.29268292682927 [-0.70714286  1.         -0.70714286]\n",
      "iter 68.28571428571429 [-0.70711297  1.         -0.70711297]\n",
      "iter 68.28451882845188 [-0.70710784  1.         -0.70710784]\n",
      "iter 68.2843137254902 [-0.70710696  1.         -0.70710696]\n",
      "iter 68.28427853553482 [-0.70710681  1.         -0.70710681]\n",
      "EigResult(eigenvalues=array([68.28427125, 40.        , 11.71572875]), eigenvectors=array([[-5.00000000e-01, -7.07106781e-01,  5.00000000e-01],\n",
      "       [ 7.07106781e-01, -1.28295502e-16,  7.07106781e-01],\n",
      "       [-5.00000000e-01,  7.07106781e-01,  5.00000000e-01]]))\n"
     ]
    }
   ],
   "source": [
    "def power(a, error_max):\n",
    "    error = 10000\n",
    "    iter_max = 100\n",
    "    iter = 0\n",
    "    row_size = a.shape[0]\n",
    "    x = np.ones(row_size)\n",
    "    eigen_max0 = 10\n",
    "    while error > error_max:\n",
    "        b = np.dot(a,x)\n",
    "        index = np.argmax(abs(b))\n",
    "        eigen_max = b[index]\n",
    "        x = b/eigen_max\n",
    "        error = abs((eigen_max - eigen_max0)/eigen_max0) * 100\n",
    "        eigen_max0 = eigen_max\n",
    "        print('iter',eigen_max,x)\n",
    "    return eigen_max,x\n",
    "\n",
    "a = np.array([[40,-20,0],[-20,40,-20],[0,-20,40]])\n",
    "error_max = 0.0001\n",
    "result = power(a,error_max)\n",
    "# np.linalg.eig(a) => 고유값 계산 \n",
    "result2 = np.linalg.eig(a)\n",
    "print(result2)"
   ]
  },
  {
   "cell_type": "code",
   "execution_count": null,
   "metadata": {},
   "outputs": [],
   "source": []
  },
  {
   "cell_type": "code",
   "execution_count": null,
   "metadata": {},
   "outputs": [],
   "source": []
  }
 ],
 "metadata": {
  "kernelspec": {
   "display_name": "Python 3",
   "language": "python",
   "name": "python3"
  },
  "language_info": {
   "codemirror_mode": {
    "name": "ipython",
    "version": 3
   },
   "file_extension": ".py",
   "mimetype": "text/x-python",
   "name": "python",
   "nbconvert_exporter": "python",
   "pygments_lexer": "ipython3",
   "version": "3.12.3"
  }
 },
 "nbformat": 4,
 "nbformat_minor": 2
}
