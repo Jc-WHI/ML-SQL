{
 "cells": [
  {
   "cell_type": "code",
   "execution_count": 1,
   "metadata": {},
   "outputs": [],
   "source": [
    "import numpy as np"
   ]
  },
  {
   "cell_type": "code",
   "execution_count": 28,
   "metadata": {},
   "outputs": [
    {
     "name": "stdout",
     "output_type": "stream",
     "text": [
      "iter: 20.0 [1. 0. 1.]\n",
      "iter: 40.0 [ 1. -1.  1.]\n",
      "iter: -80.0 [-0.75  1.   -0.75]\n",
      "iter: 70.0 [-0.71428571  1.         -0.71428571]\n",
      "iter: 68.57142857142857 [-0.70833333  1.         -0.70833333]\n",
      "iter: 68.33333333333333 [-0.70731707  1.         -0.70731707]\n",
      "iter: 68.29268292682927 [-0.70714286  1.         -0.70714286]\n",
      "iter: 68.28571428571429 [-0.70711297  1.         -0.70711297]\n",
      "iter: 68.28451882845188 [-0.70710784  1.         -0.70710784]\n",
      "iter: 68.2843137254902 [-0.70710696  1.         -0.70710696]\n",
      "iter: 68.28427853553482 [-0.70710681  1.         -0.70710681]\n",
      "[68.28427125 40.         11.71572875] [[-5.00000000e-01 -7.07106781e-01  5.00000000e-01]\n",
      " [ 7.07106781e-01 -1.28295502e-16  7.07106781e-01]\n",
      " [-5.00000000e-01  7.07106781e-01  5.00000000e-01]]\n"
     ]
    }
   ],
   "source": [
    "def power(a, error_max):\n",
    "    error = 10000\n",
    "    iter_max = 100\n",
    "    iter = 0\n",
    "    row_size = a.shape[0]\n",
    "    x = np.ones(row_size)\n",
    "    eigen_max0 = 10\n",
    "    while error > error_max:\n",
    "        b = np.dot(a,x)\n",
    "        index = np.argmax(abs(b)) # argmax - 주소\n",
    "        eigen_max = b[index]\n",
    "        x = b/eigen_max\n",
    "        error = abs((eigen_max - eigen_max0)/eigen_max0) * 100\n",
    "        eigen_max0 = eigen_max\n",
    "        print('iter:'.format(iter),eigen_max,x)\n",
    "        ++iter\n",
    "    return eigen_max,x,iter\n",
    "\n",
    "a = np.array([[40,-20,0],[-20,40,-20],[0,-20,40]])\n",
    "error_max = 0.0001\n",
    "result_a,result_b,iter = power(a,error_max)\n",
    "# np.linalg.eig(a) => 고유값 계산 \n",
    "e,f = np.linalg.eig(a)\n",
    "print(e,f)"
   ]
  },
  {
   "cell_type": "code",
   "execution_count": 29,
   "metadata": {},
   "outputs": [],
   "source": [
    "#위 방법은  고유값중 최대값을 구하는데 최소값은 어떻게 구하나?\n",
    "#A의 역행렬을 최대값에 대입하고 , 그렇게 해서 나온 람다의 역수."
   ]
  },
  {
   "cell_type": "code",
   "execution_count": 23,
   "metadata": {},
   "outputs": [],
   "source": [
    "a_inv = np.linalg.inv(a)"
   ]
  },
  {
   "cell_type": "markdown",
   "metadata": {},
   "source": []
  },
  {
   "cell_type": "code",
   "execution_count": 32,
   "metadata": {},
   "outputs": [
    {
     "name": "stdout",
     "output_type": "stream",
     "text": [
      "iter: 0.1 [0.75 1.   0.75]\n",
      "iter: 0.08750000000000001 [0.71428571 1.         0.71428571]\n",
      "iter: 0.0857142857142857 [0.70833333 1.         0.70833333]\n",
      "iter: 0.08541666666666668 [0.70731707 1.         0.70731707]\n",
      "iter: 0.08536585365853659 [0.70714286 1.         0.70714286]\n",
      "iter: 0.08535714285714285 [0.70711297 1.         0.70711297]\n",
      "iter: 0.08535564853556486 [0.70710784 1.         0.70710784]\n",
      "iter: 0.08535539215686275 [0.70710696 1.         0.70710696]\n",
      "iter: 0.08535534816941852 [0.70710681 1.         0.70710681]\n"
     ]
    }
   ],
   "source": [
    "result3_a,result3_b,c= power(a_inv,error_max)"
   ]
  },
  {
   "cell_type": "code",
   "execution_count": 21,
   "metadata": {},
   "outputs": [
    {
     "name": "stdout",
     "output_type": "stream",
     "text": [
      "11.715727502102608\n",
      "[0.70710681 1.         0.70710681]\n"
     ]
    }
   ],
   "source": [
    "inv_a = 1/result3_a\n",
    "print(inv_a)\n",
    "print(result3_b)"
   ]
  },
  {
   "cell_type": "code",
   "execution_count": 22,
   "metadata": {},
   "outputs": [],
   "source": [
    "#eig로 해를 구할 시 , 고유값은 같지만 고유벡터는 다르게 나올 가능성 \n",
    "#하지만 비제차의 고유값 문제에서 , 고유벡터는 실수배라도 상관이 없음, 어차피 해는 무한"
   ]
  },
  {
   "cell_type": "code",
   "execution_count": null,
   "metadata": {},
   "outputs": [],
   "source": [
    "#주의할 것 : np.linalg.eig()는 람다 * [[a,b,c],[d,e,f],[g,h,i]]"
   ]
  }
 ],
 "metadata": {
  "kernelspec": {
   "display_name": "Python 3",
   "language": "python",
   "name": "python3"
  },
  "language_info": {
   "codemirror_mode": {
    "name": "ipython",
    "version": 3
   },
   "file_extension": ".py",
   "mimetype": "text/x-python",
   "name": "python",
   "nbconvert_exporter": "python",
   "pygments_lexer": "ipython3",
   "version": "3.12.3"
  }
 },
 "nbformat": 4,
 "nbformat_minor": 2
}
